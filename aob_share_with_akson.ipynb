{
 "cells": [
  {
   "cell_type": "code",
   "execution_count": null,
   "metadata": {},
   "outputs": [],
   "source": [
    "import lime.lime_tabular\n",
    "# Create a LIME explainer for regression\n",
    "explainer = lime.lime_tabular.LimeTabularExplainer(\n",
    "    training_data=np.array(X_train),\n",
    "    feature_names=X_train.columns.tolist(),\n",
    "    mode='regression'\n",
    ")\n",
    "\n",
    "# Explain an instance from the test set for regression\n",
    "idx = 5  # Index of the instance to explain\n",
    "exp = explainer.explain_instance(X_test.iloc[idx], rf_model.predict, num_features=10)\n",
    "exp.show_in_notebook(show_table=True, show_all=False)"
   ]
  },
  {
   "cell_type": "code",
   "execution_count": null,
   "metadata": {},
   "outputs": [],
   "source": [
    "from sklearn.preprocessing import SplineTransformer\n",
    "\n",
    "def periodic_spline_transformer(period, n_splines=None, degree=3):\n",
    "    if n_splines is None:\n",
    "        n_splines = period\n",
    "    n_knots = n_splines + 1  # periodic and include_bias is True\n",
    "    return SplineTransformer(\n",
    "        degree=degree,\n",
    "        n_knots=n_knots,\n",
    "        knots=np.linspace(0, period, n_knots).reshape(n_knots, 1),\n",
    "        extrapolation=\"periodic\",\n",
    "        include_bias=True,\n",
    "    )\n",
    "\n",
    "# Apply Spline Transformation\n",
    "def apply_spline_transformer(df, column, period):\n",
    "    spline_transformer = periodic_spline_transformer(period)\n",
    "    transformed_values = spline_transformer.fit_transform(df[[column]])\n",
    "    \n",
    "    # Create new column names for the transformed features\n",
    "    transformed_cols = [f\"{column}_spline_{i}\" for i in range(transformed_values.shape[1])]\n",
    "    df[transformed_cols] = transformed_values\n",
    "    \n",
    "    return df"
   ]
  }
 ],
 "metadata": {
  "language_info": {
   "name": "python"
  }
 },
 "nbformat": 4,
 "nbformat_minor": 2
}
