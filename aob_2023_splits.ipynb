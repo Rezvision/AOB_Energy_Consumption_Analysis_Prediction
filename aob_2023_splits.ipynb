{
 "cells": [
  {
   "cell_type": "code",
   "execution_count": 1,
   "metadata": {},
   "outputs": [
    {
     "name": "stderr",
     "output_type": "stream",
     "text": [
      "c:\\AOB\\AOB_Energy_Consumption_Analysis_Prediction\\.venv\\Lib\\site-packages\\tqdm\\auto.py:21: TqdmWarning: IProgress not found. Please update jupyter and ipywidgets. See https://ipywidgets.readthedocs.io/en/stable/user_install.html\n",
      "  from .autonotebook import tqdm as notebook_tqdm\n"
     ]
    },
    {
     "name": "stdout",
     "output_type": "stream",
     "text": [
      "<class 'pandas.core.frame.DataFrame'>\n",
      "RangeIndex: 41666 entries, 0 to 41665\n",
      "Data columns (total 34 columns):\n",
      " #   Column                             Non-Null Count  Dtype  \n",
      "---  ------                             --------------  -----  \n",
      " 0   time                               41664 non-null  object \n",
      " 1   Comms and Services                 40812 non-null  float64\n",
      " 2   Car Chargers                       40812 non-null  float64\n",
      " 3   Space Heating                      40812 non-null  float64\n",
      " 4   Hot Water                          40812 non-null  float64\n",
      " 5   Sockets                            40812 non-null  float64\n",
      " 6   Lighting                           40812 non-null  float64\n",
      " 7   total_energy                       41664 non-null  object \n",
      " 8   datepart                           41664 non-null  float64\n",
      " 9   weekend                            41664 non-null  object \n",
      " 10  bank holiday                       41664 non-null  object \n",
      " 11  hour                               41664 non-null  float64\n",
      " 12  day of week                        41664 non-null  float64\n",
      " 13  day of month                       41664 non-null  float64\n",
      " 14  month                              41664 non-null  float64\n",
      " 15  year                               41664 non-null  float64\n",
      " 16  forecast_datadate                  41664 non-null  object \n",
      " 17  forecastperiod                     40766 non-null  object \n",
      " 18  forecast_temperature               40766 non-null  float64\n",
      " 19  forecast_feelslike                 40766 non-null  float64\n",
      " 20  forecast_weathertype               40766 non-null  float64\n",
      " 21  forecast_windspeed                 40766 non-null  float64\n",
      " 22  forecast_uvindex                   40766 non-null  float64\n",
      " 23  forecast_precipitationprobability  40766 non-null  float64\n",
      " 24  forecast_winddirection             40766 non-null  object \n",
      " 25  forecast_visibility                40766 non-null  object \n",
      " 26  forecast_interval                  40766 non-null  object \n",
      " 27  observationperiod                  41664 non-null  object \n",
      " 28  observation_temperature            26020 non-null  float64\n",
      " 29  observation_winddirection          25968 non-null  object \n",
      " 30  observation_windspeed              25968 non-null  float64\n",
      " 31  observation_pressure               25672 non-null  float64\n",
      " 32  observation_dewpoint               26002 non-null  float64\n",
      " 33  observation_humidity               26002 non-null  float64\n",
      "dtypes: float64(23), object(11)\n",
      "memory usage: 10.8+ MB\n"
     ]
    },
    {
     "name": "stderr",
     "output_type": "stream",
     "text": [
      "C:\\Users\\mscVRstudent22\\AppData\\Local\\Temp\\ipykernel_13704\\2966589377.py:20: DtypeWarning: Columns (9,10) have mixed types. Specify dtype option on import or set low_memory=False.\n",
      "  df = pd.read_csv(\"Data.csv\")# You can write up to 20GB to the current directory (/kaggle/working/) that gets preserved as output when you create a version using \"Save & Run All\"\n"
     ]
    }
   ],
   "source": [
    "import pandas as pd\n",
    "import numpy as np\n",
    "from sklearn.model_selection import train_test_split\n",
    "from sklearn.linear_model import Ridge\n",
    "from sklearn.linear_model import Lasso\n",
    "from sklearn.svm import SVR\n",
    "from datetime import datetime\n",
    "import shap\n",
    "import seaborn as sns \n",
    "import matplotlib.pyplot as plt\n",
    "from sklearn.model_selection import train_test_split, GridSearchCV\n",
    "from sklearn.linear_model import LinearRegression, Ridge, Lasso\n",
    "from sklearn.ensemble import RandomForestRegressor, GradientBoostingRegressor\n",
    "from sklearn.metrics import mean_squared_error, mean_absolute_error, r2_score\n",
    "from sklearn.preprocessing import StandardScaler\n",
    "import mifs\n",
    "from boruta import BorutaPy\n",
    "\n",
    "# Assuming df is your DataFrame after aggregating to daily data and merging with weather/building data\n",
    "df = pd.read_csv(\"Data.csv\")# You can write up to 20GB to the current directory (/kaggle/working/) that gets preserved as output when you create a version using \"Save & Run All\" \n",
    "# Get the number of rows and columns \n",
    "# rows = len(df.axes[0]) \n",
    "# cols = len(df.axes[1]) \n",
    "df.info()"
   ]
  },
  {
   "cell_type": "code",
   "execution_count": 2,
   "metadata": {},
   "outputs": [
    {
     "name": "stdout",
     "output_type": "stream",
     "text": [
      "<class 'pandas.core.frame.DataFrame'>\n",
      "Index: 40131 entries, 112 to 41663\n",
      "Data columns (total 27 columns):\n",
      " #   Column                             Non-Null Count  Dtype  \n",
      "---  ------                             --------------  -----  \n",
      " 0   time                               40131 non-null  object \n",
      " 1   Comms and Services                 40131 non-null  float64\n",
      " 2   Car Chargers                       40131 non-null  float64\n",
      " 3   Space Heating                      40131 non-null  float64\n",
      " 4   Hot Water                          40131 non-null  float64\n",
      " 5   Sockets                            40131 non-null  float64\n",
      " 6   Lighting                           40131 non-null  float64\n",
      " 7   total_energy                       40131 non-null  object \n",
      " 8   datepart                           40131 non-null  float64\n",
      " 9   weekend                            40131 non-null  object \n",
      " 10  bank holiday                       40131 non-null  object \n",
      " 11  hour                               40131 non-null  float64\n",
      " 12  day of week                        40131 non-null  float64\n",
      " 13  day of month                       40131 non-null  float64\n",
      " 14  month                              40131 non-null  float64\n",
      " 15  year                               40131 non-null  float64\n",
      " 16  forecast_datadate                  40131 non-null  object \n",
      " 17  forecastperiod                     40131 non-null  object \n",
      " 18  forecast_temperature               40131 non-null  float64\n",
      " 19  forecast_feelslike                 40131 non-null  float64\n",
      " 20  forecast_weathertype               40131 non-null  float64\n",
      " 21  forecast_windspeed                 40131 non-null  float64\n",
      " 22  forecast_uvindex                   40131 non-null  float64\n",
      " 23  forecast_precipitationprobability  40131 non-null  float64\n",
      " 24  forecast_winddirection             40131 non-null  object \n",
      " 25  forecast_visibility                40131 non-null  object \n",
      " 26  forecast_interval                  40131 non-null  object \n",
      "dtypes: float64(18), object(9)\n",
      "memory usage: 8.6+ MB\n"
     ]
    }
   ],
   "source": [
    "# Generate a list of columns to drop\n",
    "columns_to_drop = [col for col in df.columns if col.startswith('observation')]\n",
    "\n",
    "# Drop these columns from the DataFrame\n",
    "df = df.drop(columns=columns_to_drop)\n",
    "df = df.dropna()\n",
    "df.info()"
   ]
  },
  {
   "cell_type": "code",
   "execution_count": null,
   "metadata": {},
   "outputs": [],
   "source": [
    "from sklearn.preprocessing import SplineTransformer\n",
    "\n",
    "def periodic_spline_transformer(period, n_splines=None, degree=3):\n",
    "    if n_splines is None:\n",
    "        n_splines = period\n",
    "    n_knots = n_splines + 1  # periodic and include_bias is True\n",
    "    return SplineTransformer(\n",
    "        degree=degree,\n",
    "        n_knots=n_knots,\n",
    "        knots=np.linspace(0, period, n_knots).reshape(n_knots, 1),\n",
    "        extrapolation=\"periodic\",\n",
    "        include_bias=True,\n",
    "    )\n",
    "\n",
    "# Apply Spline Transformation\n",
    "def apply_spline_transformer(df, column, period):\n",
    "    spline_transformer = periodic_spline_transformer(period)\n",
    "    transformed_values = spline_transformer.fit_transform(df[[column]])\n",
    "    \n",
    "    # Create new column names for the transformed features\n",
    "    transformed_cols = [f\"{column}_spline_{i}\" for i in range(transformed_values.shape[1])]\n",
    "    df[transformed_cols] = transformed_values\n",
    "    \n",
    "    return df"
   ]
  },
  {
   "cell_type": "code",
   "execution_count": null,
   "metadata": {},
   "outputs": [],
   "source": [
    "# Apply spline transformation for the temporal features\n",
    "df = apply_spline_transformer(df, 'month', 12)\n",
    "df = apply_spline_transformer(df, 'hour', 24)\n",
    "df = apply_spline_transformer(df, 'day of week', 7)\n",
    "df = apply_spline_transformer(df, 'day of month', 31)\n",
    "\n",
    "# Additional feature engineering\n",
    "df['working_hours'] = df['hour'].apply(lambda x: 8 <= x <= 17)\n",
    "df['bank holiday'] = df['bank holiday'].astype(int)\n",
    "df['weekend'] = df['weekend'].astype(int)\n",
    "\n",
    "# Drop the original columns if no longer needed\n",
    "df.drop(columns=['month', 'hour', 'day of week', 'day of month'], inplace=True)\n",
    "\n",
    "# Display the updated DataFrame\n",
    "print(df.head())"
   ]
  },
  {
   "cell_type": "code",
   "execution_count": null,
   "metadata": {},
   "outputs": [],
   "source": [
    "columns_to_convert = ['weekend','bank holiday']\n",
    "\n",
    "# Convert 0 and 1 to boolean values in specified columns\n",
    "df[columns_to_convert] = df[columns_to_convert].astype(bool)\n",
    "# Sum specified columns to create 'total_aob_energy'\n",
    "df['total_aob_energy'] = df[[ 'Hot Water', 'Sockets', 'Lighting','Comms and Services', 'Space Heating']].sum(axis=1, skipna=True) # type: ignore\n",
    "\n",
    "# Drop the original columns except 'Car Chargers'\n",
    "df.drop(['Comms and Services', 'Space Heating', 'Hot Water', 'Sockets', 'Lighting' ], axis=1, inplace=True)\n",
    "\n",
    "# Now, 'df' contains the new 'total_aob_energy' column and has the specified columns dropped, except 'Car Chargers'"
   ]
  },
  {
   "cell_type": "code",
   "execution_count": null,
   "metadata": {},
   "outputs": [],
   "source": [
    "df['time'] = pd.to_datetime(df['time'])\n",
    "df = df.dropna()\n",
    "df = df.select_dtypes(exclude=['object'])\n",
    "df.columns = [col.capitalize() for col in df.columns]\n",
    "print(df.columns)\n",
    "df.info()"
   ]
  },
  {
   "cell_type": "code",
   "execution_count": null,
   "metadata": {},
   "outputs": [],
   "source": [
    "df = df.drop(['Car chargers','Datepart'], axis = 1)"
   ]
  },
  {
   "cell_type": "code",
   "execution_count": null,
   "metadata": {},
   "outputs": [],
   "source": [
    "new_columns = []\n",
    "for col in df.columns:\n",
    "    # Remove \"Forecast_\" if it exists and capitalize the first letter of the remaining string\n",
    "    if col.startswith('Forecast_'):\n",
    "        new_name = col.replace('Forecast_', '')  # Remove 'Forecast_'\n",
    "        new_name = new_name.capitalize()  # Capitalize the first letter\n",
    "    else:\n",
    "        new_name = col  # Keep the original name if it doesn't start with 'Forecast_'\n",
    "    new_columns.append(new_name)\n",
    "\n",
    "# Assign the modified column names back to the DataFrame\n",
    "df.columns = new_columns\n"
   ]
  },
  {
   "cell_type": "code",
   "execution_count": null,
   "metadata": {},
   "outputs": [],
   "source": [
    "# Set 'date' column as the DataFrame index\n",
    "df.set_index('Time', inplace=True)\n",
    "#removing precovid data\n",
    "df = df[df.index >= \"2021-01-01\"]"
   ]
  },
  {
   "cell_type": "code",
   "execution_count": null,
   "metadata": {},
   "outputs": [],
   "source": [
    "# Remove rare/uncommon values (assuming they are below a threshold or beyond a threshold)\n",
    "df = df[(df['Total_aob_energy'] > df['Total_aob_energy'].quantile(0.01)) & \n",
    "        (df['Total_aob_energy'] < df['Total_aob_energy'].quantile(0.99))]\n",
    "\n",
    "train_data_split1 = df[((df.index.year == 2021) | (df.index.year == 2022)) | \n",
    "                       ((df.index.year == 2023) & (df.index.day % 28 <= 7) | (df.index.day % 28 > 14) & (df.index.day % 28 <= 21))]\n",
    "test_data_split1 = df[(df.index.year == 2023) & (df.index.day % 28 > 7) & (df.index.day % 28 <= 14) | (df.index.day % 28 > 21)]\n",
    "\n",
    "# Split 2: First and third weeks of each month for testing, second and fourth weeks for training\n",
    "train_data_split2 = df[((df.index.year == 2021) | (df.index.year == 2022)) | \n",
    "                       ((df.index.year == 2023) & (df.index.day % 28 > 7) & (df.index.day % 28 <= 14) | (df.index.day % 28 > 21))]\n",
    "test_data_split2 = df[(df.index.year == 2023) & (df.index.day % 28 <= 7) | (df.index.day % 28 > 14) & (df.index.day % 28 <= 21)]\n",
    "\n",
    "# Display the shapes of the splits to verify\n",
    "print(\"Split 1 - Train set shape:\", train_data_split1.shape)\n",
    "print(\"Split 1 - Test set shape:\", test_data_split1.shape)\n",
    "print(\"Split 2 - Train set shape:\", train_data_split2.shape)\n",
    "print(\"Split 2 - Test set shape:\", test_data_split2.shape)\n",
    "\n",
    "# Split data into features and target for Split 1\n",
    "X_train_split1 = train_data_split1.drop(['Total_aob_energy'], axis=1)\n",
    "y_train_split1 = train_data_split1['Total_aob_energy']\n",
    "X_test_split1 = test_data_split1.drop(['Total_aob_energy'], axis=1)\n",
    "y_test_split1 = test_data_split1['Total_aob_energy']\n",
    "\n",
    "# Split data into features and target for Split 2\n",
    "X_train_split2 = train_data_split2.drop(['Total_aob_energy'], axis=1)\n",
    "y_train_split2 = train_data_split2['Total_aob_energy']\n",
    "X_test_split2 = test_data_split2.drop(['Total_aob_energy'], axis=1)\n",
    "y_test_split2 = test_data_split2['Total_aob_energy']\n"
   ]
  }
 ],
 "metadata": {
  "kernelspec": {
   "display_name": ".venv",
   "language": "python",
   "name": "python3"
  },
  "language_info": {
   "codemirror_mode": {
    "name": "ipython",
    "version": 3
   },
   "file_extension": ".py",
   "mimetype": "text/x-python",
   "name": "python",
   "nbconvert_exporter": "python",
   "pygments_lexer": "ipython3",
   "version": "3.11.9"
  }
 },
 "nbformat": 4,
 "nbformat_minor": 2
}
